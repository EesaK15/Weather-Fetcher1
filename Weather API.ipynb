{
 "cells": [
  {
   "cell_type": "code",
   "execution_count": 1,
   "id": "f5b36ba2",
   "metadata": {},
   "outputs": [],
   "source": [
    "# Using an API to fetch Weather Information"
   ]
  },
  {
   "cell_type": "code",
   "execution_count": 2,
   "id": "e7e759e8",
   "metadata": {},
   "outputs": [],
   "source": []
  },
  {
   "cell_type": "code",
   "execution_count": 3,
   "id": "c547acc0",
   "metadata": {},
   "outputs": [],
   "source": [
    "# Step - 1 : OpenWeatherMap, WeatherBit, and AccuWeather"
   ]
  },
  {
   "cell_type": "code",
   "execution_count": 5,
   "id": "95213285",
   "metadata": {},
   "outputs": [
    {
     "name": "stdout",
     "output_type": "stream",
     "text": [
      "Requirement already satisfied: requests in c:\\users\\s00742997\\appdata\\local\\anaconda3\\lib\\site-packages (2.28.1)\n",
      "Requirement already satisfied: charset-normalizer<3,>=2 in c:\\users\\s00742997\\appdata\\local\\anaconda3\\lib\\site-packages (from requests) (2.0.4)\n",
      "Requirement already satisfied: certifi>=2017.4.17 in c:\\users\\s00742997\\appdata\\local\\anaconda3\\lib\\site-packages (from requests) (2022.12.7)\n",
      "Requirement already satisfied: idna<4,>=2.5 in c:\\users\\s00742997\\appdata\\local\\anaconda3\\lib\\site-packages (from requests) (3.4)\n",
      "Requirement already satisfied: urllib3<1.27,>=1.21.1 in c:\\users\\s00742997\\appdata\\local\\anaconda3\\lib\\site-packages (from requests) (1.26.14)\n",
      "Requirement already satisfied: requests in c:\\users\\s00742997\\appdata\\local\\anaconda3\\lib\\site-packages (2.28.1)\n",
      "Requirement already satisfied: charset-normalizer<3,>=2 in c:\\users\\s00742997\\appdata\\local\\anaconda3\\lib\\site-packages (from requests) (2.0.4)\n",
      "Requirement already satisfied: idna<4,>=2.5 in c:\\users\\s00742997\\appdata\\local\\anaconda3\\lib\\site-packages (from requests) (3.4)\n",
      "Requirement already satisfied: urllib3<1.27,>=1.21.1 in c:\\users\\s00742997\\appdata\\local\\anaconda3\\lib\\site-packages (from requests) (1.26.14)\n",
      "Requirement already satisfied: certifi>=2017.4.17 in c:\\users\\s00742997\\appdata\\local\\anaconda3\\lib\\site-packages (from requests) (2022.12.7)\n",
      "Note: you may need to restart the kernel to use updated packages.\n"
     ]
    }
   ],
   "source": [
    "pip install requests"
   ]
  },
  {
   "cell_type": "code",
   "execution_count": 7,
   "id": "17b24058",
   "metadata": {},
   "outputs": [],
   "source": [
    "import requests"
   ]
  },
  {
   "cell_type": "code",
   "execution_count": 6,
   "id": "4f7f88b4",
   "metadata": {},
   "outputs": [],
   "source": [
    "api_key = '0e10c13de4dc7d78f8934ff6986c9f9d'"
   ]
  },
  {
   "cell_type": "code",
   "execution_count": 52,
   "id": "9d860952",
   "metadata": {},
   "outputs": [
    {
     "name": "stdout",
     "output_type": "stream",
     "text": [
      "Enter A City: lONDON\n"
     ]
    },
    {
     "data": {
      "text/plain": [
       "'lONDON'"
      ]
     },
     "execution_count": 52,
     "metadata": {},
     "output_type": "execute_result"
    }
   ],
   "source": [
    "city_input = input('Enter A City: ')\n",
    "city_input"
   ]
  },
  {
   "cell_type": "code",
   "execution_count": 53,
   "id": "5c7c638c",
   "metadata": {},
   "outputs": [],
   "source": [
    "\n",
    "weather_data = requests.get(\n",
    "    f\"https://api.openweathermap.org/data/2.5/weather?q={city_input}&units=metric&APPID={api_key}\")"
   ]
  },
  {
   "cell_type": "code",
   "execution_count": 54,
   "id": "33c310cf",
   "metadata": {},
   "outputs": [
    {
     "name": "stdout",
     "output_type": "stream",
     "text": [
      "200\n"
     ]
    }
   ],
   "source": [
    "print(weather_data.status_code) #Checks if data is active"
   ]
  },
  {
   "cell_type": "code",
   "execution_count": 55,
   "id": "4567e5d4",
   "metadata": {},
   "outputs": [],
   "source": [
    "weather = weather_data.json()['weather'][0]['main'] # JavaScript Object Notation (JSON) is a standard text-based format for representing structured data based on JavaScript object syntax. It is commonly used for transmitting data in web applications\n",
    "temp = weather_data.json()['main']['temp']"
   ]
  },
  {
   "cell_type": "code",
   "execution_count": 56,
   "id": "115b687d",
   "metadata": {},
   "outputs": [
    {
     "name": "stdout",
     "output_type": "stream",
     "text": [
      "Clouds 27.16\n"
     ]
    }
   ],
   "source": [
    "print(weather, temp)"
   ]
  },
  {
   "cell_type": "code",
   "execution_count": 57,
   "id": "d2913eb6",
   "metadata": {},
   "outputs": [
    {
     "data": {
      "text/plain": [
       "{'coord': {'lon': -0.1257, 'lat': 51.5085},\n",
       " 'weather': [{'id': 804,\n",
       "   'main': 'Clouds',\n",
       "   'description': 'overcast clouds',\n",
       "   'icon': '04d'}],\n",
       " 'base': 'stations',\n",
       " 'main': {'temp': 27.16,\n",
       "  'feels_like': 26.98,\n",
       "  'temp_min': 25.02,\n",
       "  'temp_max': 28.36,\n",
       "  'pressure': 1022,\n",
       "  'humidity': 40},\n",
       " 'visibility': 10000,\n",
       " 'wind': {'speed': 6.17, 'deg': 280},\n",
       " 'clouds': {'all': 97},\n",
       " 'dt': 1687536572,\n",
       " 'sys': {'type': 2,\n",
       "  'id': 2075535,\n",
       "  'country': 'GB',\n",
       "  'sunrise': 1687491808,\n",
       "  'sunset': 1687551701},\n",
       " 'timezone': 3600,\n",
       " 'id': 2643743,\n",
       " 'name': 'London',\n",
       " 'cod': 200}"
      ]
     },
     "execution_count": 57,
     "metadata": {},
     "output_type": "execute_result"
    }
   ],
   "source": [
    "weather_data.json()"
   ]
  },
  {
   "cell_type": "code",
   "execution_count": null,
   "id": "ff8ba6bd",
   "metadata": {},
   "outputs": [],
   "source": []
  },
  {
   "cell_type": "code",
   "execution_count": 58,
   "id": "752b44ed",
   "metadata": {},
   "outputs": [],
   "source": [
    "######## Using Tkinter"
   ]
  },
  {
   "cell_type": "code",
   "execution_count": 86,
   "id": "736fe452",
   "metadata": {},
   "outputs": [],
   "source": [
    "import tkinter as tk\n",
    "from tkinter import messagebox"
   ]
  },
  {
   "cell_type": "code",
   "execution_count": 87,
   "id": "fe9c1f36",
   "metadata": {},
   "outputs": [],
   "source": [
    "import requests"
   ]
  },
  {
   "cell_type": "code",
   "execution_count": 88,
   "id": "e3eed379",
   "metadata": {},
   "outputs": [],
   "source": [
    "from PIL import Image, ImageTk\n",
    "# Imports two modules from the Python Imaging Library PIL\n",
    "# Image - Provides a class, allows you to open, create, save and modify images\n",
    "# ImageTk - provides the functionality to display images"
   ]
  },
  {
   "cell_type": "code",
   "execution_count": 89,
   "id": "6528a68d",
   "metadata": {},
   "outputs": [
    {
     "name": "stdout",
     "output_type": "stream",
     "text": [
      "Requirement already satisfied: ttkbootstrap in c:\\users\\s00742997\\appdata\\local\\anaconda3\\lib\\site-packages (1.10.1)\n",
      "Requirement already satisfied: pillow>=8.2.0 in c:\\users\\s00742997\\appdata\\local\\anaconda3\\lib\\site-packages (from ttkbootstrap) (9.4.0)\n",
      "Note: you may need to restart the kernel to use updated packages.\n"
     ]
    }
   ],
   "source": [
    "pip install ttkbootstrap"
   ]
  },
  {
   "cell_type": "code",
   "execution_count": 90,
   "id": "b4f409cd",
   "metadata": {},
   "outputs": [],
   "source": [
    "import ttkbootstrap"
   ]
  },
  {
   "cell_type": "code",
   "execution_count": 91,
   "id": "5fbf0f30",
   "metadata": {},
   "outputs": [],
   "source": [
    "root = ttkbootstrap.Window(themename = 'morph')"
   ]
  },
  {
   "cell_type": "code",
   "execution_count": 97,
   "id": "d2b2666d",
   "metadata": {},
   "outputs": [],
   "source": [
    "def get_weather(city):\n",
    "    api_key = '0e10c13de4dc7d78f8934ff6986c9f9d'\n",
    "    url = f\"https://api.openweathermap.org/data/2.5/weather?q={city}&units=metric&APPID={api_key}\"\n",
    "    res = requests.get(url)\n",
    "    \n",
    "    if res.status_code == 404:\n",
    "        messagebox.showerror('Error, City not found')\n",
    "        \n",
    "    weather = res.json()\n",
    "    icon_id = weather['weather'][0]['icon']\n",
    "    temperature = weather['main']['temp'] - 273.15\n",
    "    description = weather['weather'][0]['description']\n",
    "    city = weather['name']\n",
    "    country = weather['sys']['country']\n",
    "    \n",
    "    icon_url = f'http://openweathermap.org/img/win/{icon_id}@2x.png'"
   ]
  },
  {
   "cell_type": "code",
   "execution_count": 101,
   "id": "d57a473c",
   "metadata": {},
   "outputs": [],
   "source": [
    "def search():\n",
    "    city = city_entry.get()\n",
    "    result = get_weather(city)\n",
    "    if result is None:\n",
    "        return\n",
    "    location_labe.configure(text = f'{city}, {country}')\n",
    "    image = Image.open(requests.get(Icon_url, stream= True).raw)\n",
    "    icon = ImageTk.PhotoImage(image)\n",
    "    icon_label.configure(image = icon)\n",
    "    icon_label.image = icon\n",
    "    \n",
    "    temperatrue_label.configure(text = f'Temperature: {temperature:.2f}C')\n",
    "    description_label.configure(text = f'Description:{description}')"
   ]
  },
  {
   "cell_type": "code",
   "execution_count": null,
   "id": "2cae84ec",
   "metadata": {},
   "outputs": [],
   "source": []
  },
  {
   "cell_type": "code",
   "execution_count": 102,
   "id": "f1d7cd0c",
   "metadata": {},
   "outputs": [],
   "source": [
    "root.title('Weather Application')\n",
    "root.geometry('400x400')\n",
    "\n",
    "# To Enter A City\n",
    "city_entry = ttkbootstrap.Entry(root, font = 'Arial, 18')\n",
    "city_entry.pack(pady = 10) # used to organize and display widgeths.\n",
    "                            # 10 pixels vertical padding"
   ]
  },
  {
   "cell_type": "code",
   "execution_count": 103,
   "id": "2fd93432",
   "metadata": {},
   "outputs": [],
   "source": [
    "search_button = ttkbootstrap.Button(root, text = 'Search', command = search,bootstyle = 'warning')\n",
    "search_button.pack(pady = 10)\n",
    "\n",
    "# Location\n",
    "location_label = tk.Label(root, font = 'Helvetica, 25')\n",
    "location_label.pack(pady = 20)\n",
    "\n",
    "# Label Widget -> Weather Icon\n",
    "\n",
    "icon_label = tk.Label(root)\n",
    "icon_label.pack()\n",
    "temperature_label = tk.Label(root, font = 'Helvetica, 20')\n",
    "temperature_label.pack()"
   ]
  },
  {
   "cell_type": "code",
   "execution_count": null,
   "id": "a0d9f289",
   "metadata": {},
   "outputs": [],
   "source": []
  },
  {
   "cell_type": "code",
   "execution_count": 133,
   "id": "5de81003",
   "metadata": {},
   "outputs": [],
   "source": [
    "# Import required modules\n",
    "import tkinter as tk\n",
    "import requests\n",
    "from tkinter import messagebox\n",
    "from PIL import Image, ImageTk\n",
    "import ttkbootstrap\n",
    "\n",
    "# Function to get weather information from OpenWeatherMap API\n",
    "def get_weather(city):\n",
    "    API_key = \"1b2f8c4cbcbd0ee0ce628c4130e28dc2\"\n",
    "    url = f\"https://api.openweathermap.org/data/2.5/weather?q={city}&appid={API_key}\"\n",
    "    res = requests.get(url)\n",
    "\n",
    "    if res.status_code == 404:\n",
    "        messagebox.showerror(\"Error\", \"City not found\")\n",
    "        return None\n",
    "    \n",
    "    weather = res.json()\n",
    "    temperature = weather['main']['temp'] - 273.15\n",
    "    city = weather['name']\n",
    "    country = weather['sys']['country']\n",
    "    return ( temperature,  city, country)\n",
    "\n",
    "def search():\n",
    "    city = city_entry.get()\n",
    "    result = get_weather(city)\n",
    "    if result is None:\n",
    "        return\n",
    "    # If the city is found, unpack the weather information\n",
    "    temperature,city, country = result\n",
    "    location_label.configure(text=f\"{city}, {country}\")\n",
    "    \n",
    "    # Update the temperature and description labels\n",
    "    temperature_label.configure(text=f\"Temperature: {temperature:.2f}°C\")\n",
    "    \n",
    "root = ttkbootstrap.Window(themename=\"morph\")\n",
    "root.title(\"Weather App\")\n",
    "root.geometry(\"500x500\")\n",
    "\n",
    "# Create an entry widget -> to enter the city name\n",
    "city_entry = ttkbootstrap.Entry(root, font=\"Helvetica, 18\")\n",
    "city_entry.pack(pady=10)\n",
    "\n",
    "# Create a button widget -> to search for the weather information\n",
    "search_button = ttkbootstrap.Button(root, text=\"Search\", command=search, bootstyle=\"warning\")\n",
    "search_button.pack(pady=10)\n",
    "\n",
    "# Create a label widget -> to show the city/country name\n",
    "location_label = tk.Label(root, font=\"Helvetica, 25\")\n",
    "location_label.pack(pady=20)\n",
    "\n",
    "# Create a label widget -> to show the temperature\n",
    "temperature_label = tk.Label(root, font=\"Helvetica, 20\")\n",
    "temperature_label.pack()\n",
    "\n",
    "root.mainloop()"
   ]
  },
  {
   "cell_type": "code",
   "execution_count": null,
   "id": "7241ee56",
   "metadata": {},
   "outputs": [],
   "source": []
  },
  {
   "cell_type": "code",
   "execution_count": null,
   "id": "f3edf1dd",
   "metadata": {},
   "outputs": [],
   "source": []
  },
  {
   "cell_type": "code",
   "execution_count": null,
   "id": "2268a6b4",
   "metadata": {},
   "outputs": [],
   "source": []
  },
  {
   "cell_type": "code",
   "execution_count": 1,
   "id": "b7d6fad5",
   "metadata": {},
   "outputs": [],
   "source": [
    "## Weather Fetcher Part 2"
   ]
  },
  {
   "cell_type": "code",
   "execution_count": 2,
   "id": "237dabf1",
   "metadata": {},
   "outputs": [],
   "source": [
    "API_KEY = '0e10c13de4dc7d78f8934ff6986c9f9d'\n",
    "import requests"
   ]
  },
  {
   "cell_type": "code",
   "execution_count": 3,
   "id": "604a22c8",
   "metadata": {},
   "outputs": [],
   "source": [
    "BASE_URL = 'http://api.openweathermap.org/data/2.5/weather'"
   ]
  },
  {
   "cell_type": "code",
   "execution_count": 7,
   "id": "e1b3d8b2",
   "metadata": {},
   "outputs": [
    {
     "name": "stdout",
     "output_type": "stream",
     "text": [
      "Enter a City Name: New York\n"
     ]
    }
   ],
   "source": [
    "city = input('Enter a City Name: ')\n",
    "request_url = f'{BASE_URL}?appid={API_KEY}&q={city}'"
   ]
  },
  {
   "cell_type": "code",
   "execution_count": 13,
   "id": "e6676672",
   "metadata": {},
   "outputs": [
    {
     "name": "stdout",
     "output_type": "stream",
     "text": [
      "overcast clouds\n",
      "24.05000000000001\n"
     ]
    }
   ],
   "source": [
    "response = requests.get(request_url)\n",
    "\n",
    "if response.status_code == 200:\n",
    "    data = response.json()\n",
    "    weather = data['weather'][0]['description']\n",
    "    print(weather)\n",
    "    temperature = data['main']['temp'] - 273.15\n",
    "    print(temperature)\n",
    "\n",
    "else:\n",
    "    print('An Error Occured.')"
   ]
  },
  {
   "cell_type": "code",
   "execution_count": null,
   "id": "ef1c756d",
   "metadata": {},
   "outputs": [],
   "source": []
  }
 ],
 "metadata": {
  "kernelspec": {
   "display_name": "Python 3 (ipykernel)",
   "language": "python",
   "name": "python3"
  },
  "language_info": {
   "codemirror_mode": {
    "name": "ipython",
    "version": 3
   },
   "file_extension": ".py",
   "mimetype": "text/x-python",
   "name": "python",
   "nbconvert_exporter": "python",
   "pygments_lexer": "ipython3",
   "version": "3.10.9"
  }
 },
 "nbformat": 4,
 "nbformat_minor": 5
}
